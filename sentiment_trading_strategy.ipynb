{
 "cells": [
  {
   "cell_type": "code",
   "execution_count": null,
   "id": "5285df3c",
   "metadata": {},
   "outputs": [],
   "source": [
    "\n",
    "import pandas as pd\n",
    "import numpy as np\n",
    "import nltk\n",
    "import re\n",
    "import string\n",
    "from textblob import TextBlob\n",
    "import matplotlib.pyplot as plt\n",
    "\n",
    "# Download necessary NLTK resources\n",
    "nltk.download('punkt')\n",
    "\n",
    "# Step 1: Synthetic Dataset (Stock news headlines and price changes)\n",
    "data = {\n",
    "    \"headline\": [\n",
    "        \"Company A reports strong earnings for the quarter, stock expected to rise.\",\n",
    "        \"Company B faces a lawsuit over data privacy violations, stock might fall.\",\n",
    "        \"Company C announces a new product launch with great market potential.\",\n",
    "        \"Company D struggles with declining sales, analysts predict a drop in stock price.\",\n",
    "        \"Positive market sentiment for Company E as they secure a major contract.\",\n",
    "        \"Company F's revenue exceeds expectations, stock price to see a surge.\",\n",
    "        \"Negative outlook for Company G due to regulatory hurdles.\"\n",
    "    ],\n",
    "    \"price_change\": [0.05, -0.04, 0.06, -0.03, 0.08, 0.07, -0.05]  # Percentage price change\n",
    "}\n",
    "\n",
    "# Convert to DataFrame\n",
    "df = pd.DataFrame(data)\n",
    "df.head()\n"
   ]
  },
  {
   "cell_type": "code",
   "execution_count": null,
   "id": "6291b70c",
   "metadata": {},
   "outputs": [],
   "source": [
    "\n",
    "# Step 2: Preprocessing headlines\n",
    "def preprocess_text(text):\n",
    "    text = text.lower()  # Convert to lowercase\n",
    "    text = re.sub(r'\\s+', ' ', text)  # Remove extra spaces\n",
    "    text = re.sub(f\"[{re.escape(string.punctuation)}]\", '', text)  # Remove punctuation\n",
    "    return text\n",
    "\n",
    "df['headline'] = df['headline'].apply(preprocess_text)\n",
    "df.head()\n"
   ]
  },
  {
   "cell_type": "code",
   "execution_count": null,
   "id": "f9e1b837",
   "metadata": {},
   "outputs": [],
   "source": [
    "\n",
    "# Step 3: Sentiment Analysis using TextBlob\n",
    "def get_sentiment(text):\n",
    "    analysis = TextBlob(text)\n",
    "    return analysis.sentiment.polarity  # Returns a value between -1 (negative) and 1 (positive)\n",
    "\n",
    "df['sentiment'] = df['headline'].apply(get_sentiment)\n",
    "df.head()\n"
   ]
  },
  {
   "cell_type": "code",
   "execution_count": null,
   "id": "ce3fb3e9",
   "metadata": {},
   "outputs": [],
   "source": [
    "\n",
    "# Step 4: Trading Strategy based on sentiment\n",
    "def trading_strategy(sentiment):\n",
    "    if sentiment > 0.05:\n",
    "        return \"Buy\"\n",
    "    elif sentiment < -0.05:\n",
    "        return \"Sell\"\n",
    "    else:\n",
    "        return \"Hold\"\n",
    "\n",
    "df['signal'] = df['sentiment'].apply(trading_strategy)\n",
    "df.head()\n"
   ]
  },
  {
   "cell_type": "code",
   "execution_count": null,
   "id": "4cfee8af",
   "metadata": {},
   "outputs": [],
   "source": [
    "\n",
    "# Step 5: Calculate strategy returns\n",
    "df['strategy_return'] = np.where(df['signal'] == \"Buy\", df['price_change'],\n",
    "                                 np.where(df['signal'] == \"Sell\", -df['price_change'], 0))\n",
    "\n",
    "# Calculate cumulative returns\n",
    "df['cumulative_return'] = df['strategy_return'].cumsum()\n",
    "df.head()\n"
   ]
  },
  {
   "cell_type": "code",
   "execution_count": null,
   "id": "e9b1d601",
   "metadata": {},
   "outputs": [],
   "source": [
    "\n",
    "# Plot cumulative returns\n",
    "plt.plot(df.index, df['cumulative_return'], marker='o', linestyle='-')\n",
    "plt.title(\"Cumulative Returns of Sentiment-Based Trading Strategy\")\n",
    "plt.xlabel(\"Trade Index\")\n",
    "plt.ylabel(\"Cumulative Return\")\n",
    "plt.grid()\n",
    "plt.show()\n"
   ]
  }
 ],
 "metadata": {},
 "nbformat": 4,
 "nbformat_minor": 5
}
